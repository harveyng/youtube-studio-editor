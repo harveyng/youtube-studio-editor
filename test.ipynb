{
 "cells": [
  {
   "cell_type": "code",
   "execution_count": 5,
   "metadata": {},
   "outputs": [],
   "source": [
    "from fastai.vision.all import *"
   ]
  },
  {
   "cell_type": "code",
   "execution_count": 13,
   "metadata": {},
   "outputs": [
    {
     "name": "stdout",
     "output_type": "stream",
     "text": [
      "Please visit this URL to authorize this application: https://accounts.google.com/o/oauth2/auth?response_type=code&client_id=260390565352-nen5g6tqa6j0gblunbqc2j4djhmclukv.apps.googleusercontent.com&redirect_uri=urn%3Aietf%3Awg%3Aoauth%3A2.0%3Aoob&scope=https%3A%2F%2Fwww.googleapis.com%2Fauth%2Fyoutube.readonly&state=DHMsdbK26DhgWAtfbzC3WDbnxgBo8C&prompt=consent&access_type=offline\n"
     ]
    },
    {
     "ename": "TypeError",
     "evalue": "Missing required parameter \"part\"",
     "output_type": "error",
     "traceback": [
      "\u001b[0;31m---------------------------------------------------------------------------\u001b[0m",
      "\u001b[0;31mTypeError\u001b[0m                                 Traceback (most recent call last)",
      "\u001b[1;32m/Users/thynguyen/Projects/youtube-studio-editor/test.ipynb Cell 2\u001b[0m in \u001b[0;36m<cell line: 38>\u001b[0;34m()\u001b[0m\n\u001b[1;32m     <a href='vscode-notebook-cell:/Users/thynguyen/Projects/youtube-studio-editor/test.ipynb#W1sZmlsZQ%3D%3D?line=35'>36</a>\u001b[0m     \u001b[39mprint\u001b[39m(response)\n\u001b[1;32m     <a href='vscode-notebook-cell:/Users/thynguyen/Projects/youtube-studio-editor/test.ipynb#W1sZmlsZQ%3D%3D?line=37'>38</a>\u001b[0m \u001b[39mif\u001b[39;00m \u001b[39m__name__\u001b[39m \u001b[39m==\u001b[39m \u001b[39m\"\u001b[39m\u001b[39m__main__\u001b[39m\u001b[39m\"\u001b[39m:\n\u001b[0;32m---> <a href='vscode-notebook-cell:/Users/thynguyen/Projects/youtube-studio-editor/test.ipynb#W1sZmlsZQ%3D%3D?line=38'>39</a>\u001b[0m     main()\n",
      "\u001b[1;32m/Users/thynguyen/Projects/youtube-studio-editor/test.ipynb Cell 2\u001b[0m in \u001b[0;36mmain\u001b[0;34m()\u001b[0m\n\u001b[1;32m     <a href='vscode-notebook-cell:/Users/thynguyen/Projects/youtube-studio-editor/test.ipynb#W1sZmlsZQ%3D%3D?line=26'>27</a>\u001b[0m credentials \u001b[39m=\u001b[39m flow\u001b[39m.\u001b[39mrun_console()\n\u001b[1;32m     <a href='vscode-notebook-cell:/Users/thynguyen/Projects/youtube-studio-editor/test.ipynb#W1sZmlsZQ%3D%3D?line=27'>28</a>\u001b[0m youtube \u001b[39m=\u001b[39m googleapiclient\u001b[39m.\u001b[39mdiscovery\u001b[39m.\u001b[39mbuild(\n\u001b[1;32m     <a href='vscode-notebook-cell:/Users/thynguyen/Projects/youtube-studio-editor/test.ipynb#W1sZmlsZQ%3D%3D?line=28'>29</a>\u001b[0m     api_service_name, api_version, credentials\u001b[39m=\u001b[39mcredentials)\n\u001b[0;32m---> <a href='vscode-notebook-cell:/Users/thynguyen/Projects/youtube-studio-editor/test.ipynb#W1sZmlsZQ%3D%3D?line=30'>31</a>\u001b[0m request \u001b[39m=\u001b[39m youtube\u001b[39m.\u001b[39;49mchannels()\u001b[39m.\u001b[39;49mlist(\n\u001b[1;32m     <a href='vscode-notebook-cell:/Users/thynguyen/Projects/youtube-studio-editor/test.ipynb#W1sZmlsZQ%3D%3D?line=31'>32</a>\u001b[0m     \n\u001b[1;32m     <a href='vscode-notebook-cell:/Users/thynguyen/Projects/youtube-studio-editor/test.ipynb#W1sZmlsZQ%3D%3D?line=32'>33</a>\u001b[0m )\n\u001b[1;32m     <a href='vscode-notebook-cell:/Users/thynguyen/Projects/youtube-studio-editor/test.ipynb#W1sZmlsZQ%3D%3D?line=33'>34</a>\u001b[0m response \u001b[39m=\u001b[39m request\u001b[39m.\u001b[39mexecute()\n\u001b[1;32m     <a href='vscode-notebook-cell:/Users/thynguyen/Projects/youtube-studio-editor/test.ipynb#W1sZmlsZQ%3D%3D?line=35'>36</a>\u001b[0m \u001b[39mprint\u001b[39m(response)\n",
      "File \u001b[0;32m~/mambaforge/envs/fastai/lib/python3.9/site-packages/googleapiclient/discovery.py:1040\u001b[0m, in \u001b[0;36mcreateMethod.<locals>.method\u001b[0;34m(self, **kwargs)\u001b[0m\n\u001b[1;32m   1034\u001b[0m     \u001b[39mif\u001b[39;00m name \u001b[39mnot\u001b[39;00m \u001b[39min\u001b[39;00m kwargs:\n\u001b[1;32m   1035\u001b[0m         \u001b[39m# temporary workaround for non-paging methods incorrectly requiring\u001b[39;00m\n\u001b[1;32m   1036\u001b[0m         \u001b[39m# page token parameter (cf. drive.changes.watch vs. drive.changes.list)\u001b[39;00m\n\u001b[1;32m   1037\u001b[0m         \u001b[39mif\u001b[39;00m name \u001b[39mnot\u001b[39;00m \u001b[39min\u001b[39;00m _PAGE_TOKEN_NAMES \u001b[39mor\u001b[39;00m _findPageTokenName(\n\u001b[1;32m   1038\u001b[0m             _methodProperties(methodDesc, schema, \u001b[39m\"\u001b[39m\u001b[39mresponse\u001b[39m\u001b[39m\"\u001b[39m)\n\u001b[1;32m   1039\u001b[0m         ):\n\u001b[0;32m-> 1040\u001b[0m             \u001b[39mraise\u001b[39;00m \u001b[39mTypeError\u001b[39;00m(\u001b[39m'\u001b[39m\u001b[39mMissing required parameter \u001b[39m\u001b[39m\"\u001b[39m\u001b[39m%s\u001b[39;00m\u001b[39m\"\u001b[39m\u001b[39m'\u001b[39m \u001b[39m%\u001b[39m name)\n\u001b[1;32m   1042\u001b[0m \u001b[39mfor\u001b[39;00m name, regex \u001b[39min\u001b[39;00m parameters\u001b[39m.\u001b[39mpattern_params\u001b[39m.\u001b[39mitems():\n\u001b[1;32m   1043\u001b[0m     \u001b[39mif\u001b[39;00m name \u001b[39min\u001b[39;00m kwargs:\n",
      "\u001b[0;31mTypeError\u001b[0m: Missing required parameter \"part\""
     ]
    }
   ],
   "source": [
    "# -*- coding: utf-8 -*-\n",
    "\n",
    "# Sample Python code for youtube.channels.list\n",
    "# See instructions for running these code samples locally:\n",
    "# https://developers.google.com/explorer-help/code-samples#python\n",
    "\n",
    "import os\n",
    "\n",
    "import google_auth_oauthlib.flow\n",
    "import googleapiclient.discovery\n",
    "import googleapiclient.errors\n",
    "\n",
    "scopes = [\"https://www.googleapis.com/auth/youtube.readonly\"]\n",
    "\n",
    "def main():\n",
    "    # Disable OAuthlib's HTTPS verification when running locally.\n",
    "    # *DO NOT* leave this option enabled in production.\n",
    "    os.environ[\"OAUTHLIB_INSECURE_TRANSPORT\"] = \"1\"\n",
    "\n",
    "    api_service_name = \"youtube\"\n",
    "    api_version = \"v3\"\n",
    "    client_secrets_file = \"client_secret_260390565352-nen5g6tqa6j0gblunbqc2j4djhmclukv.apps.googleusercontent.com.json\"\n",
    "\n",
    "    # Get credentials and create an API client\n",
    "    flow = google_auth_oauthlib.flow.InstalledAppFlow.from_client_secrets_file(\n",
    "        client_secrets_file, scopes)\n",
    "    credentials = flow.run_console()\n",
    "    youtube = googleapiclient.discovery.build(\n",
    "        api_service_name, api_version, credentials=credentials)\n",
    "\n",
    "    request = youtube.channels().list(\n",
    "        \n",
    "    )\n",
    "    response = request.execute()\n",
    "\n",
    "    print(response)\n",
    "\n",
    "if __name__ == \"__main__\":\n",
    "    main()"
   ]
  },
  {
   "cell_type": "code",
   "execution_count": 21,
   "metadata": {},
   "outputs": [
    {
     "name": "stdout",
     "output_type": "stream",
     "text": [
      "Please visit this URL to authorize this application: https://accounts.google.com/o/oauth2/auth?response_type=code&client_id=260390565352-nen5g6tqa6j0gblunbqc2j4djhmclukv.apps.googleusercontent.com&redirect_uri=urn%3Aietf%3Awg%3Aoauth%3A2.0%3Aoob&scope=https%3A%2F%2Fwww.googleapis.com%2Fauth%2Fyoutube.readonly&state=b8dUbTss5ZDycN3AHKhtRioRBiwX0J&prompt=consent&access_type=offline\n"
     ]
    },
    {
     "ename": "ValueError",
     "evalue": "Please supply either code or authorization_response parameters.",
     "output_type": "error",
     "traceback": [
      "\u001b[0;31m---------------------------------------------------------------------------\u001b[0m",
      "\u001b[0;31mValueError\u001b[0m                                Traceback (most recent call last)",
      "\u001b[1;32m/Users/thynguyen/Projects/youtube-studio-editor/test.ipynb Cell 3\u001b[0m in \u001b[0;36m<cell line: 18>\u001b[0;34m()\u001b[0m\n\u001b[1;32m     <a href='vscode-notebook-cell:/Users/thynguyen/Projects/youtube-studio-editor/test.ipynb#W3sZmlsZQ%3D%3D?line=14'>15</a>\u001b[0m \u001b[39m# Get credentials and create an API client\u001b[39;00m\n\u001b[1;32m     <a href='vscode-notebook-cell:/Users/thynguyen/Projects/youtube-studio-editor/test.ipynb#W3sZmlsZQ%3D%3D?line=15'>16</a>\u001b[0m flow \u001b[39m=\u001b[39m google_auth_oauthlib\u001b[39m.\u001b[39mflow\u001b[39m.\u001b[39mInstalledAppFlow\u001b[39m.\u001b[39mfrom_client_secrets_file(\n\u001b[1;32m     <a href='vscode-notebook-cell:/Users/thynguyen/Projects/youtube-studio-editor/test.ipynb#W3sZmlsZQ%3D%3D?line=16'>17</a>\u001b[0m     client_secrets_file, scopes)\n\u001b[0;32m---> <a href='vscode-notebook-cell:/Users/thynguyen/Projects/youtube-studio-editor/test.ipynb#W3sZmlsZQ%3D%3D?line=17'>18</a>\u001b[0m credentials \u001b[39m=\u001b[39m flow\u001b[39m.\u001b[39;49mrun_console()\n\u001b[1;32m     <a href='vscode-notebook-cell:/Users/thynguyen/Projects/youtube-studio-editor/test.ipynb#W3sZmlsZQ%3D%3D?line=18'>19</a>\u001b[0m youtube \u001b[39m=\u001b[39m googleapiclient\u001b[39m.\u001b[39mdiscovery\u001b[39m.\u001b[39mbuild(\n\u001b[1;32m     <a href='vscode-notebook-cell:/Users/thynguyen/Projects/youtube-studio-editor/test.ipynb#W3sZmlsZQ%3D%3D?line=19'>20</a>\u001b[0m     api_service_name, api_version, credentials\u001b[39m=\u001b[39mcredentials)\n",
      "File \u001b[0;32m~/mambaforge/envs/fastai/lib/python3.9/site-packages/google_auth_oauthlib/flow.py:439\u001b[0m, in \u001b[0;36mInstalledAppFlow.run_console\u001b[0;34m(self, authorization_prompt_message, authorization_code_message, **kwargs)\u001b[0m\n\u001b[1;32m    435\u001b[0m \u001b[39mprint\u001b[39m(authorization_prompt_message\u001b[39m.\u001b[39mformat(url\u001b[39m=\u001b[39mauth_url))\n\u001b[1;32m    437\u001b[0m code \u001b[39m=\u001b[39m \u001b[39minput\u001b[39m(authorization_code_message)\n\u001b[0;32m--> 439\u001b[0m \u001b[39mself\u001b[39;49m\u001b[39m.\u001b[39;49mfetch_token(code\u001b[39m=\u001b[39;49mcode)\n\u001b[1;32m    441\u001b[0m \u001b[39mreturn\u001b[39;00m \u001b[39mself\u001b[39m\u001b[39m.\u001b[39mcredentials\n",
      "File \u001b[0;32m~/mambaforge/envs/fastai/lib/python3.9/site-packages/google_auth_oauthlib/flow.py:300\u001b[0m, in \u001b[0;36mFlow.fetch_token\u001b[0;34m(self, **kwargs)\u001b[0m\n\u001b[1;32m    298\u001b[0m kwargs\u001b[39m.\u001b[39msetdefault(\u001b[39m\"\u001b[39m\u001b[39mclient_secret\u001b[39m\u001b[39m\"\u001b[39m, \u001b[39mself\u001b[39m\u001b[39m.\u001b[39mclient_config[\u001b[39m\"\u001b[39m\u001b[39mclient_secret\u001b[39m\u001b[39m\"\u001b[39m])\n\u001b[1;32m    299\u001b[0m kwargs\u001b[39m.\u001b[39msetdefault(\u001b[39m\"\u001b[39m\u001b[39mcode_verifier\u001b[39m\u001b[39m\"\u001b[39m, \u001b[39mself\u001b[39m\u001b[39m.\u001b[39mcode_verifier)\n\u001b[0;32m--> 300\u001b[0m \u001b[39mreturn\u001b[39;00m \u001b[39mself\u001b[39;49m\u001b[39m.\u001b[39;49moauth2session\u001b[39m.\u001b[39;49mfetch_token(\u001b[39mself\u001b[39;49m\u001b[39m.\u001b[39;49mclient_config[\u001b[39m\"\u001b[39;49m\u001b[39mtoken_uri\u001b[39;49m\u001b[39m\"\u001b[39;49m], \u001b[39m*\u001b[39;49m\u001b[39m*\u001b[39;49mkwargs)\n",
      "File \u001b[0;32m~/mambaforge/envs/fastai/lib/python3.9/site-packages/requests_oauthlib/oauth2_session.py:251\u001b[0m, in \u001b[0;36mOAuth2Session.fetch_token\u001b[0;34m(self, token_url, code, authorization_response, body, auth, username, password, method, force_querystring, timeout, headers, verify, proxies, include_client_id, client_secret, cert, **kwargs)\u001b[0m\n\u001b[1;32m    249\u001b[0m     code \u001b[39m=\u001b[39m \u001b[39mself\u001b[39m\u001b[39m.\u001b[39m_client\u001b[39m.\u001b[39mcode\n\u001b[1;32m    250\u001b[0m     \u001b[39mif\u001b[39;00m \u001b[39mnot\u001b[39;00m code:\n\u001b[0;32m--> 251\u001b[0m         \u001b[39mraise\u001b[39;00m \u001b[39mValueError\u001b[39;00m(\n\u001b[1;32m    252\u001b[0m             \u001b[39m\"\u001b[39m\u001b[39mPlease supply either code or \u001b[39m\u001b[39m\"\u001b[39m \u001b[39m\"\u001b[39m\u001b[39mauthorization_response parameters.\u001b[39m\u001b[39m\"\u001b[39m\n\u001b[1;32m    253\u001b[0m         )\n\u001b[1;32m    255\u001b[0m \u001b[39m# Earlier versions of this library build an HTTPBasicAuth header out of\u001b[39;00m\n\u001b[1;32m    256\u001b[0m \u001b[39m# `username` and `password`. The RFC states, however these attributes\u001b[39;00m\n\u001b[1;32m    257\u001b[0m \u001b[39m# must be in the request body and not the header.\u001b[39;00m\n\u001b[0;32m   (...)\u001b[0m\n\u001b[1;32m    264\u001b[0m \u001b[39m# 4.3.2 - Resource Owner Password Credentials Grant\u001b[39;00m\n\u001b[1;32m    265\u001b[0m \u001b[39m#         https://tools.ietf.org/html/rfc6749#section-4.3.2\u001b[39;00m\n\u001b[1;32m    267\u001b[0m \u001b[39mif\u001b[39;00m \u001b[39misinstance\u001b[39m(\u001b[39mself\u001b[39m\u001b[39m.\u001b[39m_client, LegacyApplicationClient):\n",
      "\u001b[0;31mValueError\u001b[0m: Please supply either code or authorization_response parameters."
     ]
    }
   ],
   "source": [
    "import os\n",
    "\n",
    "import google_auth_oauthlib.flow\n",
    "import googleapiclient.discovery\n",
    "import googleapiclient.errors\n",
    "# Disable OAuthlib's HTTPS verification when running locally.\n",
    "# *DO NOT* leave this option enabled in production.\n",
    "scopes = [\"https://www.googleapis.com/auth/youtube.readonly\"]\n",
    "os.environ[\"OAUTHLIB_INSECURE_TRANSPORT\"] = \"1\"\n",
    "\n",
    "api_service_name = \"youtube\"\n",
    "api_version = \"v3\"\n",
    "client_secrets_file = \"client_secret_260390565352-nen5g6tqa6j0gblunbqc2j4djhmclukv.apps.googleusercontent.com.json\"\n",
    "\n",
    "# Get credentials and create an API client\n",
    "flow = google_auth_oauthlib.flow.InstalledAppFlow.from_client_secrets_file(\n",
    "    client_secrets_file, scopes)\n",
    "credentials = flow.run_console()\n",
    "youtube = googleapiclient.discovery.build(\n",
    "    api_service_name, api_version, credentials=credentials)\n",
    "\n"
   ]
  },
  {
   "cell_type": "code",
   "execution_count": 19,
   "metadata": {},
   "outputs": [
    {
     "ename": "HttpError",
     "evalue": "<HttpError 403 when requesting https://youtube.googleapis.com/youtube/v3/channels?part=snippet%2CcontentDetails%2Cstatistics&id=UC_x5XG1OV2P6uZZ5FSM9Ttw&alt=json returned \"YouTube Data API v3 has not been used in project 260390565352 before or it is disabled. Enable it by visiting https://console.developers.google.com/apis/api/youtube.googleapis.com/overview?project=260390565352 then retry. If you enabled this API recently, wait a few minutes for the action to propagate to our systems and retry.\". Details: \"[{'message': 'YouTube Data API v3 has not been used in project 260390565352 before or it is disabled. Enable it by visiting https://console.developers.google.com/apis/api/youtube.googleapis.com/overview?project=260390565352 then retry. If you enabled this API recently, wait a few minutes for the action to propagate to our systems and retry.', 'domain': 'usageLimits', 'reason': 'accessNotConfigured', 'extendedHelp': 'https://console.developers.google.com'}]\">",
     "output_type": "error",
     "traceback": [
      "\u001b[0;31m---------------------------------------------------------------------------\u001b[0m",
      "\u001b[0;31mHttpError\u001b[0m                                 Traceback (most recent call last)",
      "\u001b[1;32m/Users/thynguyen/Projects/youtube-studio-editor/test.ipynb Cell 4\u001b[0m in \u001b[0;36m<cell line: 5>\u001b[0;34m()\u001b[0m\n\u001b[1;32m      <a href='vscode-notebook-cell:/Users/thynguyen/Projects/youtube-studio-editor/test.ipynb#W5sZmlsZQ%3D%3D?line=0'>1</a>\u001b[0m request \u001b[39m=\u001b[39m youtube\u001b[39m.\u001b[39mchannels()\u001b[39m.\u001b[39mlist(\n\u001b[1;32m      <a href='vscode-notebook-cell:/Users/thynguyen/Projects/youtube-studio-editor/test.ipynb#W5sZmlsZQ%3D%3D?line=1'>2</a>\u001b[0m         part\u001b[39m=\u001b[39m\u001b[39m\"\u001b[39m\u001b[39msnippet,contentDetails,statistics\u001b[39m\u001b[39m\"\u001b[39m,\n\u001b[1;32m      <a href='vscode-notebook-cell:/Users/thynguyen/Projects/youtube-studio-editor/test.ipynb#W5sZmlsZQ%3D%3D?line=2'>3</a>\u001b[0m         \u001b[39mid\u001b[39m\u001b[39m=\u001b[39m\u001b[39m\"\u001b[39m\u001b[39mUC_x5XG1OV2P6uZZ5FSM9Ttw\u001b[39m\u001b[39m\"\u001b[39m\n\u001b[1;32m      <a href='vscode-notebook-cell:/Users/thynguyen/Projects/youtube-studio-editor/test.ipynb#W5sZmlsZQ%3D%3D?line=3'>4</a>\u001b[0m     )\n\u001b[0;32m----> <a href='vscode-notebook-cell:/Users/thynguyen/Projects/youtube-studio-editor/test.ipynb#W5sZmlsZQ%3D%3D?line=4'>5</a>\u001b[0m response \u001b[39m=\u001b[39m request\u001b[39m.\u001b[39;49mexecute()\n\u001b[1;32m      <a href='vscode-notebook-cell:/Users/thynguyen/Projects/youtube-studio-editor/test.ipynb#W5sZmlsZQ%3D%3D?line=6'>7</a>\u001b[0m \u001b[39mprint\u001b[39m(response)\n",
      "File \u001b[0;32m~/mambaforge/envs/fastai/lib/python3.9/site-packages/googleapiclient/_helpers.py:130\u001b[0m, in \u001b[0;36mpositional.<locals>.positional_decorator.<locals>.positional_wrapper\u001b[0;34m(*args, **kwargs)\u001b[0m\n\u001b[1;32m    128\u001b[0m     \u001b[39melif\u001b[39;00m positional_parameters_enforcement \u001b[39m==\u001b[39m POSITIONAL_WARNING:\n\u001b[1;32m    129\u001b[0m         logger\u001b[39m.\u001b[39mwarning(message)\n\u001b[0;32m--> 130\u001b[0m \u001b[39mreturn\u001b[39;00m wrapped(\u001b[39m*\u001b[39;49margs, \u001b[39m*\u001b[39;49m\u001b[39m*\u001b[39;49mkwargs)\n",
      "File \u001b[0;32m~/mambaforge/envs/fastai/lib/python3.9/site-packages/googleapiclient/http.py:938\u001b[0m, in \u001b[0;36mHttpRequest.execute\u001b[0;34m(self, http, num_retries)\u001b[0m\n\u001b[1;32m    936\u001b[0m     callback(resp)\n\u001b[1;32m    937\u001b[0m \u001b[39mif\u001b[39;00m resp\u001b[39m.\u001b[39mstatus \u001b[39m>\u001b[39m\u001b[39m=\u001b[39m \u001b[39m300\u001b[39m:\n\u001b[0;32m--> 938\u001b[0m     \u001b[39mraise\u001b[39;00m HttpError(resp, content, uri\u001b[39m=\u001b[39m\u001b[39mself\u001b[39m\u001b[39m.\u001b[39muri)\n\u001b[1;32m    939\u001b[0m \u001b[39mreturn\u001b[39;00m \u001b[39mself\u001b[39m\u001b[39m.\u001b[39mpostproc(resp, content)\n",
      "\u001b[0;31mHttpError\u001b[0m: <HttpError 403 when requesting https://youtube.googleapis.com/youtube/v3/channels?part=snippet%2CcontentDetails%2Cstatistics&id=UC_x5XG1OV2P6uZZ5FSM9Ttw&alt=json returned \"YouTube Data API v3 has not been used in project 260390565352 before or it is disabled. Enable it by visiting https://console.developers.google.com/apis/api/youtube.googleapis.com/overview?project=260390565352 then retry. If you enabled this API recently, wait a few minutes for the action to propagate to our systems and retry.\". Details: \"[{'message': 'YouTube Data API v3 has not been used in project 260390565352 before or it is disabled. Enable it by visiting https://console.developers.google.com/apis/api/youtube.googleapis.com/overview?project=260390565352 then retry. If you enabled this API recently, wait a few minutes for the action to propagate to our systems and retry.', 'domain': 'usageLimits', 'reason': 'accessNotConfigured', 'extendedHelp': 'https://console.developers.google.com'}]\">"
     ]
    }
   ],
   "source": []
  },
  {
   "cell_type": "code",
   "execution_count": null,
   "metadata": {},
   "outputs": [],
   "source": []
  },
  {
   "cell_type": "code",
   "execution_count": null,
   "metadata": {},
   "outputs": [],
   "source": []
  }
 ],
 "metadata": {
  "kernelspec": {
   "display_name": "Python 3.9.13",
   "language": "python",
   "name": "python3"
  },
  "language_info": {
   "codemirror_mode": {
    "name": "ipython",
    "version": 3
   },
   "file_extension": ".py",
   "mimetype": "text/x-python",
   "name": "python",
   "nbconvert_exporter": "python",
   "pygments_lexer": "ipython3",
   "version": "3.9.13"
  },
  "orig_nbformat": 4,
  "vscode": {
   "interpreter": {
    "hash": "bdf5363bbecb867b4cbe843e554a77ebcf2ce0f46d6339584e33c8d0c44ad8a1"
   }
  }
 },
 "nbformat": 4,
 "nbformat_minor": 2
}
